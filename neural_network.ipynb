{
  "cells": [
    {
      "cell_type": "code",
      "execution_count": 2,
      "metadata": {
        "id": "FYuq9e1oRCqo"
      },
      "outputs": [],
      "source": [
        "import tensorflow as tf\n",
        "import numpy as np\n",
        "import pandas as pd\n",
        "import datetime\n",
        "from sklearn.model_selection import train_test_split\n",
        "import matplotlib.pyplot as plt\n",
        "from sklearn.preprocessing import StandardScaler, MinMaxScaler\n",
        "from sklearn.metrics import accuracy_score, precision_score, recall_score, confusion_matrix\n",
        "from tensorflow.keras import layers, losses\n",
        "from keras.layers import Dense, Dropout, Input\n",
        "from keras.models import Sequential, Model, load_model\n",
        "from keras.callbacks import ModelCheckpoint, TensorBoard\n",
        "from keras import regularizers\n",
        "from sklearn.model_selection import train_test_split\n",
        "from sklearn import metrics\n",
        "import statsmodels.api as sm\n",
        "import statsmodels.formula.api as smf\n",
        "from sklearn.tree import DecisionTreeClassifier, export_graphviz\n",
        "import graphviz as gp\n",
        "import seaborn as sns\n",
        "import keras_tuner as kt"
      ]
    },
    {
      "cell_type": "code",
      "execution_count": null,
      "metadata": {
        "id": "BAw5IN10RVz4"
      },
      "outputs": [],
      "source": [
        "# pip install keras_tuner"
      ]
    },
    {
      "cell_type": "code",
      "execution_count": 3,
      "metadata": {
        "colab": {
          "base_uri": "https://localhost:8080/"
        },
        "id": "RB9dO1flRYin",
        "outputId": "148040b1-5180-44d8-9ca4-328f7877ffe1"
      },
      "outputs": [
        {
          "name": "stdout",
          "output_type": "stream",
          "text": [
            "Mounted at /content/drive\n"
          ]
        }
      ],
      "source": [
        "from google.colab import drive\n",
        "drive.mount('/content/drive')"
      ]
    },
    {
      "cell_type": "code",
      "execution_count": 4,
      "metadata": {
        "id": "XKfnjRMDR2p0"
      },
      "outputs": [],
      "source": [
        "df = pd.read_csv(\"Insurance_claims.csv\")"
      ]
    },
    {
      "cell_type": "code",
      "execution_count": 5,
      "metadata": {
        "colab": {
          "base_uri": "https://localhost:8080/"
        },
        "id": "eQNGdzypR9kj",
        "outputId": "40765a3f-57e8-47b9-c8b2-fa2f52cf4a93"
      },
      "outputs": [
        {
          "name": "stdout",
          "output_type": "stream",
          "text": [
            "<class 'pandas.core.frame.DataFrame'>\n",
            "RangeIndex: 11530 entries, 0 to 11529\n",
            "Data columns (total 26 columns):\n",
            " #   Column                           Non-Null Count  Dtype  \n",
            "---  ------                           --------------  -----  \n",
            " 0   ReferenceId                      11530 non-null  int64  \n",
            " 1   PolicyholderNumber               11530 non-null  int64  \n",
            " 2   FirstPartyVehicleNumber          11035 non-null  float64\n",
            " 3   ThirdPartyVehicleNumber          379 non-null    float64\n",
            " 4   InsurerNotes                     9173 non-null   object \n",
            " 5   PolicyholderOccupation           11187 non-null  object \n",
            " 6   LossDate                         11530 non-null  object \n",
            " 7   FirstPolicySubscriptionDate      11530 non-null  object \n",
            " 8   ClaimCause                       11333 non-null  object \n",
            " 9   ClaimInvolvedCovers              11335 non-null  object \n",
            " 10  DamageImportance                 738 non-null    object \n",
            " 11  FirstPartyVehicleType            11518 non-null  object \n",
            " 12  ConnectionBetweenParties         98 non-null     object \n",
            " 13  LossPostCode                     10122 non-null  object \n",
            " 14  PolicyHolderPostCode             11530 non-null  object \n",
            " 15  PolicyWasSubscribedOnInternet    11530 non-null  int64  \n",
            " 16  NumberOfPoliciesOfPolicyholder   11530 non-null  int64  \n",
            " 17  FpVehicleAgeMonths               11518 non-null  float64\n",
            " 18  EasinessToStage                  11530 non-null  float64\n",
            " 19  ClaimWihoutIdentifiedThirdParty  11530 non-null  int64  \n",
            " 20  ClaimAmount                      11530 non-null  float64\n",
            " 21  LossHour                         11436 non-null  float64\n",
            " 22  PolicyHolderAge                  11494 non-null  float64\n",
            " 23  NumberOfBodilyInjuries           11530 non-null  int64  \n",
            " 24  FirstPartyLiability              11530 non-null  float64\n",
            " 25  Fraud                            11530 non-null  int64  \n",
            "dtypes: float64(8), int64(7), object(11)\n",
            "memory usage: 2.3+ MB\n"
          ]
        }
      ],
      "source": [
        "df.info()"
      ]
    },
    {
      "cell_type": "markdown",
      "metadata": {
        "id": "u-WyYW5WSDWA"
      },
      "source": [
        "# **1. Data Cleaning**"
      ]
    },
    {
      "cell_type": "markdown",
      "metadata": {
        "id": "0tS4jLQhSJw5"
      },
      "source": [
        "## Pre processing"
      ]
    },
    {
      "cell_type": "code",
      "execution_count": 6,
      "metadata": {
        "id": "6BfZXSOkSWEt"
      },
      "outputs": [],
      "source": [
        "# fill in missing values with NA\n",
        "df[\"FirstPartyVehicleNumber\"] = df[\"FirstPartyVehicleNumber\"].fillna(\"NA\")\n",
        "df[\"ThirdPartyVehicleNumber\"] = df[\"ThirdPartyVehicleNumber\"].fillna(\"NA\")\n",
        "df[\"InsurerNotes\"] = df[\"InsurerNotes\"].fillna(\"NA\")\n",
        "\n",
        "# change the datatype to datetime\n",
        "df['LossDate'] = pd.to_datetime(df['LossDate'])\n",
        "df['FirstPolicySubscriptionDate'] = pd.to_datetime(df['FirstPolicySubscriptionDate'])\n",
        "\n",
        "# fill in missing values with NoConnection\n",
        "df[\"ConnectionBetweenParties\"] = df[\"ConnectionBetweenParties\"].fillna(\"NoConnection\")\n",
        "\n",
        "# extract the symbols and fill in missing values with NA\n",
        "df[\"LossPostCode\"] = df['LossPostCode'].str.extract(pat='(\\d+)', expand=False)\n",
        "df[\"LossPostCode\"] = df['LossPostCode'].fillna(\"NA\")\n",
        "\n",
        "# missing values with NA\n",
        "df[\"PolicyHolderPostCode\"] = df[\"PolicyHolderPostCode\"].fillna(\"NA\")\n",
        "\n",
        "# missing values with mean\n",
        "df['FpVehicleAgeMonths'].fillna(df['FpVehicleAgeMonths'].mean(), inplace=True)\n",
        "df['PolicyHolderAge'].fillna(df['PolicyHolderAge'].mean(), inplace=True)\n",
        "\n",
        "# group data\n",
        "for index, row in df.iterrows():\n",
        "    if row['LossHour'] >= 0 and row['LossHour'] < 4:\n",
        "        df.loc[index,\"LossHour\"] = '0-3'\n",
        "    if row['LossHour'] >= 4 and row['LossHour'] < 8:\n",
        "        df.loc[index,\"LossHour\"] = '4-7'\n",
        "    if row['LossHour'] >= 8 and row['LossHour'] < 12:\n",
        "        df.loc[index,\"LossHour\"] = '8-11'\n",
        "    if row['LossHour'] >= 12 and row['LossHour'] < 16:\n",
        "        df.loc[index,\"LossHour\"] = '12-15'\n",
        "    if row['LossHour'] >= 16 and row['LossHour'] < 20:\n",
        "        df.loc[index,\"LossHour\"] = '16-19'\n",
        "    if row['LossHour'] >= 20 and row['LossHour'] <= 23:\n",
        "        df.loc[index,\"LossHour\"] = '20-23'\n",
        "# fill in data with mode\n",
        "df['LossHour'].fillna(df['LossHour'].mode()[0], inplace=True)"
      ]
    },
    {
      "cell_type": "code",
      "execution_count": 7,
      "metadata": {
        "id": "Z8I_pu5FUa1P"
      },
      "outputs": [],
      "source": [
        "# Colume ClaimInvolvedCovers\n",
        "x = pd.DataFrame(df['ClaimInvolvedCovers'].str.split(' ',expand=True))\n",
        "unique = pd.DataFrame(pd.concat([x[0],x[1],x[2],x[3],x[4]]).unique(), columns=['types'])\n",
        "unique = unique.dropna().reset_index(drop=True)\n",
        "uniqueL = unique['types'].tolist()\n",
        "for j in np.arange(0,len(uniqueL)):\n",
        "    cat = uniqueL[j]\n",
        "    aa = [0]*11530\n",
        "    for i in [0,1,2,3,4]:\n",
        "        aa = aa + np.array((x[i] == cat)*1)\n",
        "    #aa\n",
        "    df['ClaimInvolvedCovers_'+uniqueL[j]] = aa\n",
        "df = df.drop(columns=[\"ClaimInvolvedCovers\"])\n",
        "\n",
        "# Colume DamageImportance\n",
        "df['DamageImportance'] = df['DamageImportance'].fillna(\"Negligible\")\n"
      ]
    },
    {
      "cell_type": "code",
      "execution_count": 8,
      "metadata": {
        "id": "Ba_bvfjDVT9N"
      },
      "outputs": [],
      "source": [
        "# create new column\n",
        "df['Date_diff'] = (df['LossDate'] - df['FirstPolicySubscriptionDate']).dt.days"
      ]
    },
    {
      "cell_type": "code",
      "execution_count": 9,
      "metadata": {
        "id": "jc1W0F38VZB9"
      },
      "outputs": [],
      "source": [
        "df_clean = df.copy()"
      ]
    },
    {
      "cell_type": "code",
      "execution_count": 10,
      "metadata": {
        "id": "NxfULy_xVdCI"
      },
      "outputs": [],
      "source": [
        "# get dummy\n",
        "df_clean=df_clean.merge(pd.get_dummies(df_clean.LossHour,prefix=\"LH\",\n",
        "                                       prefix_sep=\"_\"),left_index=True, right_index=True)\n",
        "df_clean=df_clean.merge(pd.get_dummies(df_clean.ConnectionBetweenParties,prefix=\"CBP\",\n",
        "                                       prefix_sep=\"_\"),left_index=True, right_index=True)\n",
        "df_clean=df_clean.merge(pd.get_dummies(df_clean.PolicyholderOccupation,prefix=\"PO\",\n",
        "                                       prefix_sep=\"_\"),left_index=True, right_index=True)\n",
        "df_clean=df_clean.merge(pd.get_dummies(df_clean.ClaimCause,prefix=\"CC\",\n",
        "                                       prefix_sep=\"_\"),left_index=True, right_index=True)\n",
        "df_clean=df_clean.merge(pd.get_dummies(df_clean.DamageImportance,prefix=\"DI\",\n",
        "                                       prefix_sep=\"_\"),left_index=True, right_index=True)\n",
        "df_clean=df_clean.merge(pd.get_dummies(df_clean.FirstPartyVehicleType,prefix=\"FPVT\",\n",
        "                                       prefix_sep=\"_\"),left_index=True, right_index=True)\n",
        "\n",
        "df_clean = df_clean.drop(['ConnectionBetweenParties', 'PolicyholderOccupation',\"ClaimCause\",\n",
        "               \"DamageImportance\",\"FirstPartyVehicleType\",\n",
        "               \"LossHour\"], axis=1)"
      ]
    },
    {
      "cell_type": "code",
      "execution_count": 11,
      "metadata": {
        "id": "MdeVQfRZVviE"
      },
      "outputs": [],
      "source": [
        "df_clean1 = df_clean.copy()"
      ]
    },
    {
      "cell_type": "code",
      "execution_count": 12,
      "metadata": {
        "id": "YtMCt0mxV5Fk"
      },
      "outputs": [],
      "source": [
        "# drop columns we don't need\n",
        "df_clean1 = df_clean1.drop(['ReferenceId', 'PolicyholderNumber',\"FirstPartyVehicleNumber\",\n",
        "               \"ThirdPartyVehicleNumber\",\"InsurerNotes\",\n",
        "               \"LossPostCode\",\"PolicyHolderPostCode\",\"LossDate\",\"FirstPolicySubscriptionDate\"], axis=1)"
      ]
    },
    {
      "cell_type": "code",
      "execution_count": 13,
      "metadata": {
        "colab": {
          "base_uri": "https://localhost:8080/"
        },
        "id": "ooIVwGEIV7sY",
        "outputId": "2c6a1377-c47f-49c0-c98c-da05cb8f4c5e"
      },
      "outputs": [
        {
          "name": "stdout",
          "output_type": "stream",
          "text": [
            "<class 'pandas.core.frame.DataFrame'>\n",
            "RangeIndex: 11530 entries, 0 to 11529\n",
            "Data columns (total 72 columns):\n",
            " #   Column                                         Non-Null Count  Dtype  \n",
            "---  ------                                         --------------  -----  \n",
            " 0   PolicyWasSubscribedOnInternet                  11530 non-null  int64  \n",
            " 1   NumberOfPoliciesOfPolicyholder                 11530 non-null  int64  \n",
            " 2   FpVehicleAgeMonths                             11530 non-null  float64\n",
            " 3   EasinessToStage                                11530 non-null  float64\n",
            " 4   ClaimWihoutIdentifiedThirdParty                11530 non-null  int64  \n",
            " 5   ClaimAmount                                    11530 non-null  float64\n",
            " 6   PolicyHolderAge                                11530 non-null  float64\n",
            " 7   NumberOfBodilyInjuries                         11530 non-null  int64  \n",
            " 8   FirstPartyLiability                            11530 non-null  float64\n",
            " 9   Fraud                                          11530 non-null  int64  \n",
            " 10  ClaimInvolvedCovers_MaterialDamages            11530 non-null  int64  \n",
            " 11  ClaimInvolvedCovers_ActLiability               11530 non-null  int64  \n",
            " 12  ClaimInvolvedCovers_Windscreen                 11530 non-null  int64  \n",
            " 13  ClaimInvolvedCovers_Accessories                11530 non-null  int64  \n",
            " 14  ClaimInvolvedCovers_ThirdParty                 11530 non-null  int64  \n",
            " 15  ClaimInvolvedCovers_Theft                      11530 non-null  int64  \n",
            " 16  ClaimInvolvedCovers_ThirdPartyMaterialDamages  11530 non-null  int64  \n",
            " 17  ClaimInvolvedCovers_Burglary                   11530 non-null  int64  \n",
            " 18  ClaimInvolvedCovers_NaturalCatastrophes        11530 non-null  int64  \n",
            " 19  ClaimInvolvedCovers_MedicalCare                11530 non-null  int64  \n",
            " 20  ClaimInvolvedCovers_ReplacementVehicle         11530 non-null  int64  \n",
            " 21  ClaimInvolvedCovers_Fire                       11530 non-null  int64  \n",
            " 22  ClaimInvolvedCovers_RiderClothes               11530 non-null  int64  \n",
            " 23  Date_diff                                      11530 non-null  int64  \n",
            " 24  LH_0-3                                         11530 non-null  uint8  \n",
            " 25  LH_12-15                                       11530 non-null  uint8  \n",
            " 26  LH_16-19                                       11530 non-null  uint8  \n",
            " 27  LH_20-23                                       11530 non-null  uint8  \n",
            " 28  LH_4-7                                         11530 non-null  uint8  \n",
            " 29  LH_8-11                                        11530 non-null  uint8  \n",
            " 30  CBP_NoConnection                               11530 non-null  uint8  \n",
            " 31  CBP_SameAddress                                11530 non-null  uint8  \n",
            " 32  CBP_SameBankAccount                            11530 non-null  uint8  \n",
            " 33  CBP_SameEmail                                  11530 non-null  uint8  \n",
            " 34  CBP_SamePhone                                  11530 non-null  uint8  \n",
            " 35  CBP_SamePolice                                 11530 non-null  uint8  \n",
            " 36  PO_CivilServant                                11530 non-null  uint8  \n",
            " 37  PO_Employee                                    11530 non-null  uint8  \n",
            " 38  PO_Executive                                   11530 non-null  uint8  \n",
            " 39  PO_Farmer                                      11530 non-null  uint8  \n",
            " 40  PO_HeadOfCompany                               11530 non-null  uint8  \n",
            " 41  PO_Merchant                                    11530 non-null  uint8  \n",
            " 42  PO_Retired                                     11530 non-null  uint8  \n",
            " 43  PO_SelfEmployed                                11530 non-null  uint8  \n",
            " 44  PO_Student                                     11530 non-null  uint8  \n",
            " 45  PO_Unemployed                                  11530 non-null  uint8  \n",
            " 46  PO_Worker                                      11530 non-null  uint8  \n",
            " 47  CC_AccidentOrCollision                         11530 non-null  uint8  \n",
            " 48  CC_AccidentWithIdentifiedThirdParty            11530 non-null  uint8  \n",
            " 49  CC_AccidentWithUnidentifiedThirdParty          11530 non-null  uint8  \n",
            " 50  CC_CollisionWithAnimal                         11530 non-null  uint8  \n",
            " 51  CC_CollisionWithPedestrian                     11530 non-null  uint8  \n",
            " 52  CC_Fire                                        11530 non-null  uint8  \n",
            " 53  CC_Flood                                       11530 non-null  uint8  \n",
            " 54  CC_ForcesOfNature                              11530 non-null  uint8  \n",
            " 55  CC_Hail                                        11530 non-null  uint8  \n",
            " 56  CC_LegalProtection                             11530 non-null  uint8  \n",
            " 57  CC_LossOfControl                               11530 non-null  uint8  \n",
            " 58  CC_MultiVehicleCrash                           11530 non-null  uint8  \n",
            " 59  CC_Storm                                       11530 non-null  uint8  \n",
            " 60  CC_TheftAttempt                                11530 non-null  uint8  \n",
            " 61  CC_TheftOfExteriorElements                     11530 non-null  uint8  \n",
            " 62  CC_TotalTheft                                  11530 non-null  uint8  \n",
            " 63  CC_Vandalism                                   11530 non-null  uint8  \n",
            " 64  CC_WindscreenDamage                            11530 non-null  uint8  \n",
            " 65  DI_Medium                                      11530 non-null  uint8  \n",
            " 66  DI_Negligible                                  11530 non-null  uint8  \n",
            " 67  DI_TotalLoss                                   11530 non-null  uint8  \n",
            " 68  FPVT_Car                                       11530 non-null  uint8  \n",
            " 69  FPVT_Caravan                                   11530 non-null  uint8  \n",
            " 70  FPVT_Motorcycle                                11530 non-null  uint8  \n",
            " 71  FPVT_PrivateCar                                11530 non-null  uint8  \n",
            "dtypes: float64(5), int64(19), uint8(48)\n",
            "memory usage: 2.6 MB\n"
          ]
        }
      ],
      "source": [
        "df_clean1.info()"
      ]
    },
    {
      "cell_type": "code",
      "execution_count": 14,
      "metadata": {
        "id": "5xcqcGvxWEVS"
      },
      "outputs": [],
      "source": [
        "df_clean1.to_csv(\"Insurance_claims_clean.csv\")"
      ]
    },
    {
      "cell_type": "markdown",
      "metadata": {
        "id": "SiBcG1CMiOTQ"
      },
      "source": [
        "# **4. Neural Network**"
      ]
    },
    {
      "cell_type": "markdown",
      "metadata": {
        "id": "RM3hJKHrjOmK"
      },
      "source": [
        "## 4.1 Split data"
      ]
    },
    {
      "cell_type": "code",
      "execution_count": 42,
      "metadata": {
        "id": "eIbbwAuFia6c"
      },
      "outputs": [],
      "source": [
        "df = pd.read_csv(\"Insurance_claims_clean.csv\")"
      ]
    },
    {
      "cell_type": "code",
      "execution_count": 43,
      "metadata": {
        "id": "Qa5dnunUi_Cl"
      },
      "outputs": [],
      "source": [
        "df = df.drop(columns=['Unnamed: 0'])"
      ]
    },
    {
      "cell_type": "code",
      "execution_count": 44,
      "metadata": {
        "id": "F0WjtcE2jHKz"
      },
      "outputs": [],
      "source": [
        "dfC = df.copy()\n",
        "dfC1 = dfC[dfC.Fraud==1]\n",
        "dfC0 = dfC[dfC.Fraud==0]"
      ]
    },
    {
      "cell_type": "code",
      "execution_count": 45,
      "metadata": {
        "id": "FbqyfrG5jMK6"
      },
      "outputs": [],
      "source": [
        "dfX1 = dfC1.drop(columns=[\"Fraud\"])\n",
        "dfY1 = dfC1[[\"Fraud\"]]\n",
        "\n",
        "dfX0 = dfC0.drop(columns=[\"Fraud\"])\n",
        "dfY0 = dfC0[[\"Fraud\"]]"
      ]
    },
    {
      "cell_type": "code",
      "execution_count": 46,
      "metadata": {
        "id": "YERltH2ZjjTJ"
      },
      "outputs": [],
      "source": [
        "X1_train, X1_test, y1_train, y1_test = train_test_split(dfX1, dfY1, test_size=0.4, random_state=172)\n",
        "X1_test, X1_val, y1_test, y1_val = train_test_split(X1_test, y1_test, test_size=0.5, random_state=172)\n",
        "\n",
        "X0_train, X0_test, y0_train, y0_test = train_test_split(dfX0, dfY0, test_size=0.4, random_state=172)\n",
        "X0_test, X0_val, y0_test, y0_val = train_test_split(X0_test, y0_test, test_size=0.5, random_state=172)"
      ]
    },
    {
      "cell_type": "code",
      "execution_count": 47,
      "metadata": {
        "id": "Fm3AiNTrkKTf"
      },
      "outputs": [],
      "source": [
        "X_train = X1_train.append(X0_train)\n",
        "X_val = X1_val.append(X0_val)\n",
        "X_test = X1_test.append(X0_test)\n",
        "\n",
        "y_train = y1_train.append(y0_train)\n",
        "y_val = y1_val.append(y0_val)\n",
        "y_test = y1_test.append(y0_test)"
      ]
    },
    {
      "cell_type": "code",
      "execution_count": 48,
      "metadata": {
        "colab": {
          "base_uri": "https://localhost:8080/"
        },
        "id": "MvEsINeJkK7I",
        "outputId": "dd3db1b3-0898-4ce3-9bc7-587552d11835"
      },
      "outputs": [
        {
          "data": {
            "text/plain": [
              "((6918, 71), (2306, 71), (2306, 71), (6918, 1), (2306, 1), (2306, 1))"
            ]
          },
          "execution_count": 48,
          "metadata": {},
          "output_type": "execute_result"
        }
      ],
      "source": [
        "X_train = X_train.to_numpy()\n",
        "X_val = X_val.to_numpy()\n",
        "X_test = X_test.to_numpy()\n",
        "\n",
        "y_train = y_train.to_numpy()\n",
        "y_val = y_val.to_numpy()\n",
        "y_test = y_test.to_numpy()\n",
        "\n",
        "X_train.shape, X_test.shape, X_val.shape, y_train.shape, y_test.shape, y_val.shape"
      ]
    },
    {
      "cell_type": "markdown",
      "metadata": {
        "id": "9ZXKiZ42kfP2"
      },
      "source": [
        "## 4.2 Build neural network"
      ]
    },
    {
      "cell_type": "markdown",
      "metadata": {
        "id": "Y9QeUPblldMW"
      },
      "source": [
        "### 4.2.1 SGD"
      ]
    },
    {
      "cell_type": "markdown",
      "metadata": {
        "id": "HipU9qOHlgsJ"
      },
      "source": [
        "I started from a 2-hidden-layers SGD neural network, 10 units each, with 0.01 learning rate and 0.9 momentum. The accuracy does not improve after reaching 99.00%.\n",
        "\n",
        "I then tried with a lower learning rate (0.001), a smaller batch size (16), adding L2 regularisation (0.9), adding dropout regularisation (0.2), having more units per hidden layer (20), having additional hidden layer. Even though some of the tested models have very big initial loss, all of them coverge to a small loss at the end.\n",
        "\n",
        "However, none of them can improve the training and validation accuracy beyond 99.00%."
      ]
    },
    {
      "cell_type": "markdown",
      "metadata": {
        "id": "uxUIa2I5lj5E"
      },
      "source": [
        "### 4.2.2 RMSprop"
      ]
    },
    {
      "cell_type": "markdown",
      "metadata": {
        "id": "4wrQYi0blpaL"
      },
      "source": [
        "I tried with a RMSprop neural network, with 2 size-20 hidden layers, 0.2 dropout rate, 0.01 L2 regularisation parameter, batch size of 16. The result is still the same, having 99.00% training and validation accuracy, and the loss converging to a very small value."
      ]
    },
    {
      "cell_type": "markdown",
      "metadata": {
        "id": "GNr2WBlyluBI"
      },
      "source": [
        "### 4.2.3 Adam"
      ]
    },
    {
      "cell_type": "markdown",
      "metadata": {
        "id": "HAgOynR7lwc1"
      },
      "source": [
        "I tried with an Adam neural network, with a same setting as the RMSprop one, having a 0.9 beta 1, 0.999 beta 2, and 1e-07 epsilon. The result is not the same, but very similar, having 98.99% training accuracy, 99.00% validation accuracy."
      ]
    },
    {
      "cell_type": "code",
      "execution_count": 49,
      "metadata": {
        "colab": {
          "base_uri": "https://localhost:8080/"
        },
        "id": "lx2QBzwTlqMr",
        "outputId": "3cdb4c2e-2295-45e5-c249-1aea7748b966"
      },
      "outputs": [
        {
          "name": "stdout",
          "output_type": "stream",
          "text": [
            "Epoch 1/10\n",
            "433/433 [==============================] - 2s 3ms/step - loss: 13.8192 - accuracy: 0.9295 - val_loss: 7.3495 - val_accuracy: 0.9900\n",
            "Epoch 2/10\n",
            "433/433 [==============================] - 1s 2ms/step - loss: 5.1478 - accuracy: 0.9733 - val_loss: 3.9275 - val_accuracy: 0.9900\n",
            "Epoch 3/10\n",
            "433/433 [==============================] - 1s 2ms/step - loss: 2.6844 - accuracy: 0.9750 - val_loss: 2.2672 - val_accuracy: 0.9900\n",
            "Epoch 4/10\n",
            "433/433 [==============================] - 1s 2ms/step - loss: 1.8396 - accuracy: 0.9780 - val_loss: 0.7432 - val_accuracy: 0.9900\n",
            "Epoch 5/10\n",
            "433/433 [==============================] - 1s 2ms/step - loss: 1.0467 - accuracy: 0.9789 - val_loss: 0.6304 - val_accuracy: 0.9900\n",
            "Epoch 6/10\n",
            "433/433 [==============================] - 1s 2ms/step - loss: 0.6199 - accuracy: 0.9809 - val_loss: 0.3853 - val_accuracy: 0.9900\n",
            "Epoch 7/10\n",
            "433/433 [==============================] - 1s 3ms/step - loss: 0.4838 - accuracy: 0.9855 - val_loss: 0.2388 - val_accuracy: 0.9900\n",
            "Epoch 8/10\n",
            "433/433 [==============================] - 1s 3ms/step - loss: 0.3589 - accuracy: 0.9861 - val_loss: 0.1906 - val_accuracy: 0.9900\n",
            "Epoch 9/10\n",
            "433/433 [==============================] - 1s 3ms/step - loss: 0.2649 - accuracy: 0.9896 - val_loss: 0.1950 - val_accuracy: 0.9900\n",
            "Epoch 10/10\n",
            "433/433 [==============================] - 1s 2ms/step - loss: 0.2458 - accuracy: 0.9893 - val_loss: 0.1859 - val_accuracy: 0.9900\n"
          ]
        }
      ],
      "source": [
        "num_units = 20\n",
        "\n",
        "reg_param = 0.01\n",
        "regularizer = tf.keras.regularizers.l2(reg_param)\n",
        "\n",
        "model = tf.keras.models.Sequential([\n",
        "    tf.keras.layers.Dropout(rate=0.2),\n",
        "    tf.keras.layers.Dense(num_units, activation=\"relu\", kernel_regularizer=regularizer),\n",
        "    tf.keras.layers.Dropout(rate=0.2),\n",
        "    tf.keras.layers.Dense(num_units, activation=\"relu\", kernel_regularizer=regularizer),\n",
        "    tf.keras.layers.Dropout(rate=0.2),\n",
        "    tf.keras.layers.Dense(1, activation=\"sigmoid\", kernel_regularizer=regularizer)\n",
        "])\n",
        "\n",
        "model.compile(loss=\"binary_crossentropy\",\n",
        "              optimizer=tf.keras.optimizers.Adam(learning_rate=0.001, beta_1=0.9, beta_2=0.999, epsilon=1e-07),\n",
        "              metrics=[\"accuracy\"])\n",
        "\n",
        "log1Adam = model.fit(X_train, y_train, epochs=10, batch_size=16,\n",
        "                    validation_data=(X_val, y_val))"
      ]
    },
    {
      "cell_type": "markdown",
      "metadata": {
        "id": "wBN_5Pgnl4vC"
      },
      "source": [
        "As all 3 models have the same result, I then use Adam for hyperparameter tuning."
      ]
    },
    {
      "cell_type": "code",
      "execution_count": 50,
      "metadata": {
        "id": "kkWhm_WBl31E"
      },
      "outputs": [],
      "source": [
        "rm -rf ./logs/kt_tutorial_2"
      ]
    },
    {
      "cell_type": "code",
      "execution_count": 51,
      "metadata": {
        "id": "FI7Ry-Mlommn"
      },
      "outputs": [],
      "source": [
        "def train_model(hp):    \n",
        "    num_units = hp.Int('num_units', min_value = 8, max_value = 128) \n",
        "    dropout_rate = hp.Float('dropout_rate', min_value = 0.1, max_value = 0.3)\n",
        "    learning_rate = hp.Float('learning_rate', min_value = 0.0001, max_value = 0.1, sampling='log')\n",
        "\n",
        "    reg_param = hp.Choice(\"reg_param\", [0.1, 0.01, 0.001, 0.0001])\n",
        "    regularizer = tf.keras.regularizers.l2(reg_param)\n",
        "\n",
        "    model = tf.keras.models.Sequential([\n",
        "        tf.keras.layers.Dropout(dropout_rate),\n",
        "        tf.keras.layers.Dense(num_units, activation=\"relu\", kernel_regularizer=regularizer),\n",
        "        tf.keras.layers.Dropout(dropout_rate),\n",
        "        tf.keras.layers.Dense(num_units, activation=\"relu\", kernel_regularizer=regularizer),\n",
        "        tf.keras.layers.Dense(1, activation=\"sigmoid\")])\n",
        "    \n",
        "    model.compile(  optimizer=tf.keras.optimizers.experimental.Adam(learning_rate = learning_rate,\n",
        "                                                                    beta_1 = 0.9, beta_2 = 0.999,\n",
        "                                                                    epsilon = 1e-07),\n",
        "                    loss='binary_crossentropy',\n",
        "                    metrics = [\"accuracy\"])\n",
        "    \n",
        "    return model"
      ]
    },
    {
      "cell_type": "code",
      "execution_count": 52,
      "metadata": {
        "colab": {
          "base_uri": "https://localhost:8080/"
        },
        "id": "0NsAnIWeoo6k",
        "outputId": "7cdeb044-04fa-404f-ac45-5c7715a7af86"
      },
      "outputs": [
        {
          "name": "stdout",
          "output_type": "stream",
          "text": [
            "Trial 10 Complete [00h 00m 06s]\n",
            "val_accuracy: 0.9900259971618652\n",
            "\n",
            "Best val_accuracy So Far: 0.9900259971618652\n",
            "Total elapsed time: 00h 00m 37s\n"
          ]
        }
      ],
      "source": [
        "tuner = kt.Hyperband(train_model,\n",
        "                     objective='val_accuracy',\n",
        "                     max_epochs=5,\n",
        "                     factor=3,\n",
        "                     directory='logs',\n",
        "                     project_name='kt_tutorial_2')\n",
        "tuner.search(X_train, y_train, validation_data=(X_val,y_val))"
      ]
    },
    {
      "cell_type": "code",
      "execution_count": 53,
      "metadata": {
        "colab": {
          "base_uri": "https://localhost:8080/"
        },
        "id": "2q4c4IVGorRt",
        "outputId": "065421af-6f56-4517-8d95-79e7aa354d05"
      },
      "outputs": [
        {
          "name": "stdout",
          "output_type": "stream",
          "text": [
            "Best number of hidden units: 42\n",
            "Best dropout rate: 0.1400688086537003\n",
            "Best learning rate: 0.0004827637265189225\n",
            "Best L2 reg parameter: 0.001\n",
            "Epoch 1/30\n",
            "217/217 [==============================] - 2s 4ms/step - loss: 2.4870 - accuracy: 0.9579 - val_loss: 0.5984 - val_accuracy: 0.9900\n",
            "Epoch 2/30\n",
            "217/217 [==============================] - 1s 3ms/step - loss: 0.8579 - accuracy: 0.9790 - val_loss: 7.5491 - val_accuracy: 0.7298\n",
            "Epoch 3/30\n",
            "217/217 [==============================] - 1s 3ms/step - loss: 0.8982 - accuracy: 0.9815 - val_loss: 0.4343 - val_accuracy: 0.9900\n",
            "Epoch 4/30\n",
            "217/217 [==============================] - 1s 3ms/step - loss: 0.8162 - accuracy: 0.9828 - val_loss: 0.2415 - val_accuracy: 0.9900\n",
            "Epoch 5/30\n",
            "217/217 [==============================] - 1s 3ms/step - loss: 0.5794 - accuracy: 0.9796 - val_loss: 0.3552 - val_accuracy: 0.9900\n",
            "Epoch 6/30\n",
            "217/217 [==============================] - 1s 2ms/step - loss: 0.6506 - accuracy: 0.9812 - val_loss: 0.2787 - val_accuracy: 0.9900\n",
            "Epoch 7/30\n",
            "217/217 [==============================] - 1s 2ms/step - loss: 0.7542 - accuracy: 0.9808 - val_loss: 0.4734 - val_accuracy: 0.9900\n",
            "Epoch 8/30\n",
            "217/217 [==============================] - 1s 2ms/step - loss: 0.6020 - accuracy: 0.9831 - val_loss: 0.1687 - val_accuracy: 0.9900\n",
            "Epoch 9/30\n",
            "217/217 [==============================] - 0s 2ms/step - loss: 0.3642 - accuracy: 0.9814 - val_loss: 0.1555 - val_accuracy: 0.9900\n",
            "Epoch 10/30\n",
            "217/217 [==============================] - 1s 2ms/step - loss: 0.3591 - accuracy: 0.9841 - val_loss: 0.2725 - val_accuracy: 0.9900\n",
            "Epoch 11/30\n",
            "217/217 [==============================] - 0s 2ms/step - loss: 0.4953 - accuracy: 0.9828 - val_loss: 0.3762 - val_accuracy: 0.9900\n",
            "Epoch 12/30\n",
            "217/217 [==============================] - 0s 2ms/step - loss: 0.3425 - accuracy: 0.9835 - val_loss: 0.1404 - val_accuracy: 0.9900\n",
            "Epoch 13/30\n",
            "217/217 [==============================] - 0s 2ms/step - loss: 0.5333 - accuracy: 0.9828 - val_loss: 0.4023 - val_accuracy: 0.9900\n",
            "Epoch 14/30\n",
            "217/217 [==============================] - 1s 2ms/step - loss: 0.2716 - accuracy: 0.9845 - val_loss: 0.2268 - val_accuracy: 0.9900\n",
            "Epoch 15/30\n",
            "217/217 [==============================] - 1s 2ms/step - loss: 0.3159 - accuracy: 0.9844 - val_loss: 0.1126 - val_accuracy: 0.9900\n",
            "Epoch 16/30\n",
            "217/217 [==============================] - 1s 2ms/step - loss: 0.3688 - accuracy: 0.9805 - val_loss: 0.2734 - val_accuracy: 0.9900\n",
            "Epoch 17/30\n",
            "217/217 [==============================] - 0s 2ms/step - loss: 0.2900 - accuracy: 0.9840 - val_loss: 0.1248 - val_accuracy: 0.9900\n",
            "Epoch 18/30\n",
            "217/217 [==============================] - 0s 2ms/step - loss: 0.3516 - accuracy: 0.9847 - val_loss: 0.1186 - val_accuracy: 0.9900\n",
            "Epoch 19/30\n",
            "217/217 [==============================] - 1s 2ms/step - loss: 0.3311 - accuracy: 0.9855 - val_loss: 0.5882 - val_accuracy: 0.9900\n",
            "Epoch 20/30\n",
            "217/217 [==============================] - 1s 3ms/step - loss: 0.3226 - accuracy: 0.9837 - val_loss: 0.1039 - val_accuracy: 0.9900\n",
            "Epoch 21/30\n",
            "217/217 [==============================] - 1s 3ms/step - loss: 0.3086 - accuracy: 0.9837 - val_loss: 0.1364 - val_accuracy: 0.9900\n",
            "Epoch 22/30\n",
            "217/217 [==============================] - 1s 2ms/step - loss: 0.1764 - accuracy: 0.9861 - val_loss: 0.1068 - val_accuracy: 0.9900\n",
            "Epoch 23/30\n",
            "217/217 [==============================] - 0s 2ms/step - loss: 0.2290 - accuracy: 0.9851 - val_loss: 0.1291 - val_accuracy: 0.9900\n",
            "Epoch 24/30\n",
            "217/217 [==============================] - 0s 2ms/step - loss: 0.1979 - accuracy: 0.9857 - val_loss: 0.1004 - val_accuracy: 0.9900\n",
            "Epoch 25/30\n",
            "217/217 [==============================] - 1s 3ms/step - loss: 0.1728 - accuracy: 0.9845 - val_loss: 0.1518 - val_accuracy: 0.9900\n",
            "Epoch 26/30\n",
            "217/217 [==============================] - 1s 3ms/step - loss: 0.2049 - accuracy: 0.9861 - val_loss: 0.1160 - val_accuracy: 0.9900\n",
            "Epoch 27/30\n",
            "217/217 [==============================] - 1s 3ms/step - loss: 0.2722 - accuracy: 0.9855 - val_loss: 0.1001 - val_accuracy: 0.9900\n",
            "Epoch 28/30\n",
            "217/217 [==============================] - 1s 3ms/step - loss: 0.2084 - accuracy: 0.9851 - val_loss: 0.1214 - val_accuracy: 0.9900\n",
            "Epoch 29/30\n",
            "217/217 [==============================] - 1s 3ms/step - loss: 0.1973 - accuracy: 0.9874 - val_loss: 0.0988 - val_accuracy: 0.9900\n",
            "Epoch 30/30\n",
            "217/217 [==============================] - 1s 3ms/step - loss: 0.1479 - accuracy: 0.9855 - val_loss: 0.0971 - val_accuracy: 0.9900\n"
          ]
        }
      ],
      "source": [
        "best_hps = tuner.get_best_hyperparameters()[0]\n",
        "print(\"Best number of hidden units:\", best_hps['num_units'])\n",
        "print(\"Best dropout rate:\", best_hps['dropout_rate'])\n",
        "print(\"Best learning rate:\", best_hps['learning_rate'])\n",
        "print(\"Best L2 reg parameter:\", best_hps['reg_param'])\n",
        "\n",
        "\n",
        "best_model = tuner.hypermodel.build(best_hps)\n",
        "early_stopping_cb = tf.keras.callbacks.EarlyStopping(patience=5, restore_best_weights=True)\n",
        "\n",
        "log = best_model.fit(X_train, y_train,\n",
        "               epochs=30,\n",
        "               validation_data=(X_test,y_test),\n",
        "               callbacks=[early_stopping_cb])"
      ]
    },
    {
      "cell_type": "markdown",
      "metadata": {
        "id": "eGYSVHzJou5-"
      },
      "source": [
        "## 2.3 Find optimal threshold for classification"
      ]
    },
    {
      "cell_type": "code",
      "execution_count": 55,
      "metadata": {
        "colab": {
          "base_uri": "https://localhost:8080/"
        },
        "id": "Q5N6LxT_owV2",
        "outputId": "8834cf23-5e66-44ce-ba95-22f9073d7d6f"
      },
      "outputs": [
        {
          "name": "stdout",
          "output_type": "stream",
          "text": [
            "Epoch 1/30\n",
            "217/217 [==============================] - 1s 3ms/step - loss: 1.0369 - accuracy: 0.9840 - val_loss: 1.0152 - val_accuracy: 0.9900\n",
            "Epoch 2/30\n",
            "217/217 [==============================] - 0s 2ms/step - loss: 0.9996 - accuracy: 0.9855 - val_loss: 0.8816 - val_accuracy: 0.9900\n",
            "Epoch 3/30\n",
            "217/217 [==============================] - 0s 2ms/step - loss: 1.0151 - accuracy: 0.9792 - val_loss: 0.9475 - val_accuracy: 0.9900\n",
            "Epoch 4/30\n",
            "217/217 [==============================] - 1s 3ms/step - loss: 0.9782 - accuracy: 0.9842 - val_loss: 0.7951 - val_accuracy: 0.9900\n",
            "Epoch 5/30\n",
            "217/217 [==============================] - 1s 2ms/step - loss: 0.9470 - accuracy: 0.9850 - val_loss: 1.1629 - val_accuracy: 0.9900\n",
            "Epoch 6/30\n",
            "217/217 [==============================] - 1s 2ms/step - loss: 0.9521 - accuracy: 0.9822 - val_loss: 0.8229 - val_accuracy: 0.9900\n",
            "Epoch 7/30\n",
            "217/217 [==============================] - 1s 2ms/step - loss: 0.8353 - accuracy: 0.9850 - val_loss: 0.8254 - val_accuracy: 0.9900\n",
            "Epoch 8/30\n",
            "217/217 [==============================] - 1s 2ms/step - loss: 0.8354 - accuracy: 0.9840 - val_loss: 0.8186 - val_accuracy: 0.9900\n",
            "Epoch 9/30\n",
            "217/217 [==============================] - 1s 2ms/step - loss: 0.8697 - accuracy: 0.9842 - val_loss: 0.9007 - val_accuracy: 0.9900\n"
          ]
        }
      ],
      "source": [
        "load_model = tf.keras.models.load_model('Neural Network_final_model.h5')\n",
        "\n",
        "log = load_model.fit(X_train, y_train,\n",
        "               epochs=30,\n",
        "               validation_data=(X_val,y_val),\n",
        "               callbacks=[early_stopping_cb])"
      ]
    },
    {
      "cell_type": "code",
      "execution_count": 56,
      "metadata": {
        "colab": {
          "base_uri": "https://localhost:8080/"
        },
        "id": "jhzlMsjMo0Q-",
        "outputId": "616a8072-bd3f-4b2a-c36b-d6d6640ed853"
      },
      "outputs": [
        {
          "data": {
            "text/plain": [
              "{'name': 'sequential_1',\n",
              " 'layers': [{'class_name': 'InputLayer',\n",
              "   'config': {'batch_input_shape': (None, 71),\n",
              "    'dtype': 'float32',\n",
              "    'sparse': False,\n",
              "    'ragged': False,\n",
              "    'name': 'dropout_2_input'}},\n",
              "  {'class_name': 'Dropout',\n",
              "   'config': {'name': 'dropout_2',\n",
              "    'trainable': True,\n",
              "    'dtype': 'float32',\n",
              "    'rate': 0.1647608817858867,\n",
              "    'noise_shape': None,\n",
              "    'seed': None}},\n",
              "  {'class_name': 'Dense',\n",
              "   'config': {'name': 'dense_3',\n",
              "    'trainable': True,\n",
              "    'dtype': 'float32',\n",
              "    'units': 28,\n",
              "    'activation': 'relu',\n",
              "    'use_bias': True,\n",
              "    'kernel_initializer': {'class_name': 'GlorotUniform',\n",
              "     'config': {'seed': None}},\n",
              "    'bias_initializer': {'class_name': 'Zeros', 'config': {}},\n",
              "    'kernel_regularizer': {'class_name': 'L2',\n",
              "     'config': {'l2': 0.10000000149011612}},\n",
              "    'bias_regularizer': None,\n",
              "    'activity_regularizer': None,\n",
              "    'kernel_constraint': None,\n",
              "    'bias_constraint': None}},\n",
              "  {'class_name': 'Dropout',\n",
              "   'config': {'name': 'dropout_3',\n",
              "    'trainable': True,\n",
              "    'dtype': 'float32',\n",
              "    'rate': 0.1647608817858867,\n",
              "    'noise_shape': None,\n",
              "    'seed': None}},\n",
              "  {'class_name': 'Dense',\n",
              "   'config': {'name': 'dense_4',\n",
              "    'trainable': True,\n",
              "    'dtype': 'float32',\n",
              "    'units': 28,\n",
              "    'activation': 'relu',\n",
              "    'use_bias': True,\n",
              "    'kernel_initializer': {'class_name': 'GlorotUniform',\n",
              "     'config': {'seed': None}},\n",
              "    'bias_initializer': {'class_name': 'Zeros', 'config': {}},\n",
              "    'kernel_regularizer': {'class_name': 'L2',\n",
              "     'config': {'l2': 0.10000000149011612}},\n",
              "    'bias_regularizer': None,\n",
              "    'activity_regularizer': None,\n",
              "    'kernel_constraint': None,\n",
              "    'bias_constraint': None}},\n",
              "  {'class_name': 'Dense',\n",
              "   'config': {'name': 'dense_5',\n",
              "    'trainable': True,\n",
              "    'dtype': 'float32',\n",
              "    'units': 1,\n",
              "    'activation': 'sigmoid',\n",
              "    'use_bias': True,\n",
              "    'kernel_initializer': {'class_name': 'GlorotUniform',\n",
              "     'config': {'seed': None}},\n",
              "    'bias_initializer': {'class_name': 'Zeros', 'config': {}},\n",
              "    'kernel_regularizer': None,\n",
              "    'bias_regularizer': None,\n",
              "    'activity_regularizer': None,\n",
              "    'kernel_constraint': None,\n",
              "    'bias_constraint': None}}]}"
            ]
          },
          "execution_count": 56,
          "metadata": {},
          "output_type": "execute_result"
        }
      ],
      "source": [
        "load_model.get_config()"
      ]
    },
    {
      "cell_type": "code",
      "execution_count": 57,
      "metadata": {
        "colab": {
          "base_uri": "https://localhost:8080/"
        },
        "id": "z5309J98o2jQ",
        "outputId": "19c9c054-5132-419e-e31f-c49d97f285c7"
      },
      "outputs": [
        {
          "name": "stderr",
          "output_type": "stream",
          "text": [
            "<ipython-input-57-62e3c34e1566>:13: RuntimeWarning: invalid value encountered in long_scalars\n",
            "  hitRate = tp / (tp+fp)\n",
            "<ipython-input-57-62e3c34e1566>:13: RuntimeWarning: invalid value encountered in long_scalars\n",
            "  hitRate = tp / (tp+fp)\n",
            "<ipython-input-57-62e3c34e1566>:13: RuntimeWarning: invalid value encountered in long_scalars\n",
            "  hitRate = tp / (tp+fp)\n",
            "<ipython-input-57-62e3c34e1566>:13: RuntimeWarning: invalid value encountered in long_scalars\n",
            "  hitRate = tp / (tp+fp)\n",
            "<ipython-input-57-62e3c34e1566>:13: RuntimeWarning: invalid value encountered in long_scalars\n",
            "  hitRate = tp / (tp+fp)\n",
            "<ipython-input-57-62e3c34e1566>:13: RuntimeWarning: invalid value encountered in long_scalars\n",
            "  hitRate = tp / (tp+fp)\n",
            "<ipython-input-57-62e3c34e1566>:13: RuntimeWarning: invalid value encountered in long_scalars\n",
            "  hitRate = tp / (tp+fp)\n",
            "<ipython-input-57-62e3c34e1566>:13: RuntimeWarning: invalid value encountered in long_scalars\n",
            "  hitRate = tp / (tp+fp)\n",
            "<ipython-input-57-62e3c34e1566>:13: RuntimeWarning: invalid value encountered in long_scalars\n",
            "  hitRate = tp / (tp+fp)\n",
            "<ipython-input-57-62e3c34e1566>:13: RuntimeWarning: invalid value encountered in long_scalars\n",
            "  hitRate = tp / (tp+fp)\n",
            "<ipython-input-57-62e3c34e1566>:13: RuntimeWarning: invalid value encountered in long_scalars\n",
            "  hitRate = tp / (tp+fp)\n",
            "<ipython-input-57-62e3c34e1566>:13: RuntimeWarning: invalid value encountered in long_scalars\n",
            "  hitRate = tp / (tp+fp)\n",
            "<ipython-input-57-62e3c34e1566>:13: RuntimeWarning: invalid value encountered in long_scalars\n",
            "  hitRate = tp / (tp+fp)\n",
            "<ipython-input-57-62e3c34e1566>:13: RuntimeWarning: invalid value encountered in long_scalars\n",
            "  hitRate = tp / (tp+fp)\n",
            "<ipython-input-57-62e3c34e1566>:13: RuntimeWarning: invalid value encountered in long_scalars\n",
            "  hitRate = tp / (tp+fp)\n",
            "<ipython-input-57-62e3c34e1566>:13: RuntimeWarning: invalid value encountered in long_scalars\n",
            "  hitRate = tp / (tp+fp)\n",
            "<ipython-input-57-62e3c34e1566>:13: RuntimeWarning: invalid value encountered in long_scalars\n",
            "  hitRate = tp / (tp+fp)\n",
            "<ipython-input-57-62e3c34e1566>:13: RuntimeWarning: invalid value encountered in long_scalars\n",
            "  hitRate = tp / (tp+fp)\n",
            "<ipython-input-57-62e3c34e1566>:13: RuntimeWarning: invalid value encountered in long_scalars\n",
            "  hitRate = tp / (tp+fp)\n",
            "<ipython-input-57-62e3c34e1566>:13: RuntimeWarning: invalid value encountered in long_scalars\n",
            "  hitRate = tp / (tp+fp)\n",
            "<ipython-input-57-62e3c34e1566>:13: RuntimeWarning: invalid value encountered in long_scalars\n",
            "  hitRate = tp / (tp+fp)\n",
            "<ipython-input-57-62e3c34e1566>:13: RuntimeWarning: invalid value encountered in long_scalars\n",
            "  hitRate = tp / (tp+fp)\n",
            "<ipython-input-57-62e3c34e1566>:13: RuntimeWarning: invalid value encountered in long_scalars\n",
            "  hitRate = tp / (tp+fp)\n",
            "<ipython-input-57-62e3c34e1566>:13: RuntimeWarning: invalid value encountered in long_scalars\n",
            "  hitRate = tp / (tp+fp)\n",
            "<ipython-input-57-62e3c34e1566>:13: RuntimeWarning: invalid value encountered in long_scalars\n",
            "  hitRate = tp / (tp+fp)\n",
            "<ipython-input-57-62e3c34e1566>:13: RuntimeWarning: invalid value encountered in long_scalars\n",
            "  hitRate = tp / (tp+fp)\n",
            "<ipython-input-57-62e3c34e1566>:13: RuntimeWarning: invalid value encountered in long_scalars\n",
            "  hitRate = tp / (tp+fp)\n",
            "<ipython-input-57-62e3c34e1566>:13: RuntimeWarning: invalid value encountered in long_scalars\n",
            "  hitRate = tp / (tp+fp)\n"
          ]
        },
        {
          "data": {
            "text/plain": [
              "(40, 40)"
            ]
          },
          "execution_count": 57,
          "metadata": {},
          "output_type": "execute_result"
        }
      ],
      "source": [
        "threshold_list = np.arange(0, 0.4, 0.01)\n",
        "\n",
        "y_probs = load_model(X_test).numpy() \n",
        "d = [-1]\n",
        "h = [-1]\n",
        "\n",
        "for threshold in threshold_list:\n",
        "\n",
        "  y_preds = np.where(y_probs < threshold, 0, 1)\n",
        "  tn, fp, fn, tp = metrics.confusion_matrix(y_test, y_preds).ravel()\n",
        "\n",
        "  detectionRate = (tp+fp)/len(X_test)\n",
        "  hitRate = tp / (tp+fp)\n",
        "\n",
        "  d.append(detectionRate)\n",
        "  h.append(hitRate)\n",
        "\n",
        "d = d[1:]\n",
        "h = h[1:]\n",
        "\n",
        "len(d), len(h)"
      ]
    },
    {
      "cell_type": "code",
      "execution_count": 58,
      "metadata": {
        "id": "onhalAuwo5Ie"
      },
      "outputs": [],
      "source": [
        "NNdh = pd.DataFrame(list(zip(threshold_list, d, h)), columns=['Threshold', 'Detection_rate', 'Hit_rate'])"
      ]
    },
    {
      "cell_type": "code",
      "execution_count": 59,
      "metadata": {
        "id": "EQJ73c5to63o"
      },
      "outputs": [],
      "source": [
        "NNdh.to_csv(\"NN_dh.csv\")"
      ]
    },
    {
      "cell_type": "code",
      "execution_count": 60,
      "metadata": {
        "colab": {
          "base_uri": "https://localhost:8080/",
          "height": 313
        },
        "id": "8dZiEJi_o8SB",
        "outputId": "a2f2aecd-fa46-42c0-afa1-31bc41451776"
      },
      "outputs": [
        {
          "data": {
            "text/plain": [
              "<matplotlib.legend.Legend at 0x7ff88534ec70>"
            ]
          },
          "execution_count": 60,
          "metadata": {},
          "output_type": "execute_result"
        },
        {
          "data": {
            "image/png": "[encoded data removed]",
            "text/plain": [
              "<Figure size 432x288 with 1 Axes>"
            ]
          },
          "metadata": {
            "needs_background": "light"
          },
          "output_type": "display_data"
        }
      ],
      "source": [
        "plt.plot(NNdh.Threshold, NNdh.Detection_rate, label='Detection Rate')\n",
        "plt.plot(NNdh.Threshold, NNdh.Hit_rate, label='Hit Rate')\n",
        "plt.title(\"Detection Rate and Hit Rate at different threshold with Adam\")\n",
        "plt.xlabel(\"Threshold\")\n",
        "plt.ylabel(\"Detection/Hit Rate\")\n",
        "plt.legend()"
      ]
    },
    {
      "cell_type": "markdown",
      "metadata": {
        "id": "YuYDSI_mpA2s"
      },
      "source": [
        "## 2.4 Loss part"
      ]
    },
    {
      "cell_type": "code",
      "execution_count": 61,
      "metadata": {
        "colab": {
          "base_uri": "https://localhost:8080/",
          "height": 295
        },
        "id": "Gyb3r7DApDvK",
        "outputId": "2d2f863a-959f-4f6c-ebd0-8e0cfaadc449"
      },
      "outputs": [
        {
          "data": {
            "image/png": "[encoded data removed]",
            "text/plain": [
              "<Figure size 432x288 with 1 Axes>"
            ]
          },
          "metadata": {
            "needs_background": "light"
          },
          "output_type": "display_data"
        }
      ],
      "source": [
        "plt.plot(log.history['loss'],label = \"training loss\",color='darkgreen')\n",
        "plt.plot(log.history['val_loss'], label = \"validation loss\",color='darkblue')\n",
        "plt.xlabel(\"Epoch\")\n",
        "plt.ylabel(\"Loss\")\n",
        "plt.title(\"Loss during Model Fitting\")\n",
        "plt.legend()\n",
        "plt.show()"
      ]
    },
    {
      "cell_type": "markdown",
      "metadata": {
        "id": "8bGQwLjZpLKe"
      },
      "source": [
        "# **6. Detection VS Hit Rate with Different Models**"
      ]
    },
    {
      "cell_type": "code",
      "execution_count": 88,
      "metadata": {
        "id": "38UcRYr3pLr3"
      },
      "outputs": [],
      "source": [
        "# Decision Tree\n",
        "DTdh = pd.read_csv(\"DecisionTree_dh.csv\")\n",
        "DTdh = DTdh.drop(columns=['Unnamed: 0']).sort_values(\"Threshold\")"
      ]
    },
    {
      "cell_type": "code",
      "execution_count": 89,
      "metadata": {
        "id": "1xnBsgfDP1W3"
      },
      "outputs": [],
      "source": [
        "# Neural Network\n",
        "NNdh = pd.read_csv(\"NN_dh.csv\")\n",
        "NNdh = NNdh.drop(columns=['Unnamed: 0']).sort_values(\"Threshold\")"
      ]
    },
    {
      "cell_type": "code",
      "execution_count": 90,
      "metadata": {
        "id": "cpjTmJD1pNzi"
      },
      "outputs": [],
      "source": [
        "# Autoencoder\n",
        "AEdh = pd.read_csv(\"Autoencoder_dh.csv\")\n",
        "AEdh = AEdh.drop(columns=['Unnamed: 0']).sort_values(\"Threshold\")"
      ]
    },
    {
      "cell_type": "code",
      "execution_count": 91,
      "metadata": {
        "colab": {
          "base_uri": "https://localhost:8080/",
          "height": 295
        },
        "id": "F52TQ6PSpQaR",
        "outputId": "512d99b7-fceb-4196-f040-9d75c7dc10c2"
      },
      "outputs": [
        {
          "data": {
            "image/png": "[encoded data removed]",
            "text/plain": [
              "<Figure size 432x288 with 1 Axes>"
            ]
          },
          "metadata": {
            "needs_background": "light"
          },
          "output_type": "display_data"
        }
      ],
      "source": [
        "plt.plot(NNdh.Detection_rate, NNdh.Hit_rate, label=\"neural network\")\n",
        "plt.plot(DTdh.Detection_rate, DTdh.Hit_rate, label=\"decisoin tree\")\n",
        "plt.plot(AEdh.Detection_rate, AEdh.Hit_rate, label=\"autoencoder\")\n",
        "plt.title(\"Detection Rate and Hit Rate with different models\")\n",
        "plt.xlabel(\"Detection Rate\")\n",
        "plt.ylabel(\"Hit Rate\")\n",
        "plt.ylim(0,0.25)\n",
        "plt.xlim(0,0.2)\n",
        "plt.legend()\n",
        "plt.show()"
      ]
    },
    {
      "cell_type": "code",
      "execution_count": null,
      "metadata": {
        "id": "60TXy_-Kbwu6"
      },
      "outputs": [],
      "source": []
    }
  ],
  "metadata": {
    "colab": {
      "provenance": []
    },
    "kernelspec": {
      "display_name": "Python 3",
      "name": "python3"
    },
    "language_info": {
      "name": "python"
    }
  },
  "nbformat": 4,
  "nbformat_minor": 0
}
